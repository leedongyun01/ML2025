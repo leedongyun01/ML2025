{
 "cells": [
  {
   "cell_type": "code",
   "execution_count": 25,
   "id": "f6adabf6-2044-49ba-8250-10bccdde9b23",
   "metadata": {},
   "outputs": [
    {
     "name": "stdout",
     "output_type": "stream",
     "text": [
      "Requirement already satisfied: kagglehub in c:\\users\\u308-11\\anaconda3\\envs\\ml\\lib\\site-packages (0.3.10)\n",
      "Requirement already satisfied: packaging in c:\\users\\u308-11\\anaconda3\\envs\\ml\\lib\\site-packages (from kagglehub) (24.2)\n",
      "Requirement already satisfied: pyyaml in c:\\users\\u308-11\\anaconda3\\envs\\ml\\lib\\site-packages (from kagglehub) (6.0.2)\n",
      "Requirement already satisfied: requests in c:\\users\\u308-11\\anaconda3\\envs\\ml\\lib\\site-packages (from kagglehub) (2.32.3)\n",
      "Requirement already satisfied: tqdm in c:\\users\\u308-11\\anaconda3\\envs\\ml\\lib\\site-packages (from kagglehub) (4.67.1)\n",
      "Requirement already satisfied: charset-normalizer<4,>=2 in c:\\users\\u308-11\\anaconda3\\envs\\ml\\lib\\site-packages (from requests->kagglehub) (3.3.2)\n",
      "Requirement already satisfied: idna<4,>=2.5 in c:\\users\\u308-11\\anaconda3\\envs\\ml\\lib\\site-packages (from requests->kagglehub) (3.7)\n",
      "Requirement already satisfied: urllib3<3,>=1.21.1 in c:\\users\\u308-11\\anaconda3\\envs\\ml\\lib\\site-packages (from requests->kagglehub) (2.3.0)\n",
      "Requirement already satisfied: certifi>=2017.4.17 in c:\\users\\u308-11\\anaconda3\\envs\\ml\\lib\\site-packages (from requests->kagglehub) (2025.1.31)\n",
      "Requirement already satisfied: colorama in c:\\users\\u308-11\\anaconda3\\envs\\ml\\lib\\site-packages (from tqdm->kagglehub) (0.4.6)\n"
     ]
    }
   ],
   "source": [
    "!pip install kagglehub"
   ]
  },
  {
   "cell_type": "code",
   "execution_count": 26,
   "id": "2b2fd223-ed0d-4795-8ae3-6db746f924ce",
   "metadata": {},
   "outputs": [],
   "source": [
    "import kagglehub\n",
    "import pandas as pd\n",
    "import numpy as np\n",
    "\n",
    "pd.options.display.max_rows = None"
   ]
  },
  {
   "cell_type": "code",
   "execution_count": 27,
   "id": "a9535c71-5f73-4154-9a64-81ca3bc3660a",
   "metadata": {},
   "outputs": [],
   "source": [
    "path = kagglehub.dataset_download(\"yasserh/wine-quality-dataset\")\n",
    "df_data=pd.read_csv(path+f'\\WineQT.csv')"
   ]
  },
  {
   "cell_type": "code",
   "execution_count": 28,
   "id": "8e7af931-77d8-4d7f-8c4b-3b74b8897b75",
   "metadata": {},
   "outputs": [
    {
     "name": "stdout",
     "output_type": "stream",
     "text": [
      "   fixed acidity  volatile acidity  citric acid  residual sugar  chlorides  \\\n",
      "0            7.4              0.70         0.00             1.9      0.076   \n",
      "1            7.8              0.88         0.00             2.6      0.098   \n",
      "2            7.8              0.76         0.04             2.3      0.092   \n",
      "3           11.2              0.28         0.56             1.9      0.075   \n",
      "4            7.4              0.70         0.00             1.9      0.076   \n",
      "\n",
      "   free sulfur dioxide  total sulfur dioxide  density    pH  sulphates  \\\n",
      "0                 11.0                  34.0   0.9978  3.51       0.56   \n",
      "1                 25.0                  67.0   0.9968  3.20       0.68   \n",
      "2                 15.0                  54.0   0.9970  3.26       0.65   \n",
      "3                 17.0                  60.0   0.9980  3.16       0.58   \n",
      "4                 11.0                  34.0   0.9978  3.51       0.56   \n",
      "\n",
      "   alcohol  quality  Id  \n",
      "0      9.4        5   0  \n",
      "1      9.8        5   1  \n",
      "2      9.8        5   2  \n",
      "3      9.8        6   3  \n",
      "4      9.4        5   4  \n"
     ]
    }
   ],
   "source": [
    "print(df_data.head())"
   ]
  },
  {
   "cell_type": "code",
   "execution_count": 29,
   "id": "5d5f3038-0411-4564-8a1e-3bc84fb2482c",
   "metadata": {},
   "outputs": [],
   "source": [
    "df_data = df_data.drop(\"quality\", axis = 1)\n",
    "df_data = df_data.drop(\"Id\", axis = 1)"
   ]
  },
  {
   "cell_type": "code",
   "execution_count": 30,
   "id": "240ca512-a7c9-405b-9d80-b2f0d1f01d0f",
   "metadata": {},
   "outputs": [
    {
     "name": "stdout",
     "output_type": "stream",
     "text": [
      "   fixed acidity  volatile acidity  citric acid  residual sugar  chlorides  \\\n",
      "0            7.4              0.70         0.00             1.9      0.076   \n",
      "1            7.8              0.88         0.00             2.6      0.098   \n",
      "2            7.8              0.76         0.04             2.3      0.092   \n",
      "3           11.2              0.28         0.56             1.9      0.075   \n",
      "4            7.4              0.70         0.00             1.9      0.076   \n",
      "\n",
      "   free sulfur dioxide  total sulfur dioxide  density    pH  sulphates  \\\n",
      "0                 11.0                  34.0   0.9978  3.51       0.56   \n",
      "1                 25.0                  67.0   0.9968  3.20       0.68   \n",
      "2                 15.0                  54.0   0.9970  3.26       0.65   \n",
      "3                 17.0                  60.0   0.9980  3.16       0.58   \n",
      "4                 11.0                  34.0   0.9978  3.51       0.56   \n",
      "\n",
      "   alcohol  \n",
      "0      9.4  \n",
      "1      9.8  \n",
      "2      9.8  \n",
      "3      9.8  \n",
      "4      9.4  \n"
     ]
    }
   ],
   "source": [
    "print(df_data.head())"
   ]
  },
  {
   "cell_type": "code",
   "execution_count": 31,
   "id": "06300f24-0fba-4acb-97d1-045b5d2ab387",
   "metadata": {},
   "outputs": [
    {
     "name": "stdout",
     "output_type": "stream",
     "text": [
      "[[0.71324332]\n",
      " [0.42445135]\n",
      " [0.52197098]\n",
      " [0.65515416]\n",
      " [0.38774487]\n",
      " [0.00730867]\n",
      " [0.8560738 ]\n",
      " [0.42899004]\n",
      " [0.60805489]\n",
      " [0.69933747]\n",
      " [0.98697036]\n",
      " [0.06436655]]\n"
     ]
    }
   ],
   "source": [
    "df_data['weight_0'] = 1\n",
    "df_matrix = df_data.values\n",
    "weight_vector = np.random.random_sample((12,1))\n",
    "print(weight_vector)"
   ]
  },
  {
   "cell_type": "code",
   "execution_count": 33,
   "id": "80f468bf-5d16-4540-8e1d-9085a9214b08",
   "metadata": {},
   "outputs": [
    {
     "name": "stdout",
     "output_type": "stream",
     "text": [
      "[[48.33211852]\n",
      " [77.80349488]\n",
      " [66.38810967]\n",
      " ...\n",
      " [57.32262983]\n",
      " [64.12114319]\n",
      " [57.01085368]]\n"
     ]
    }
   ],
   "source": [
    "y_pred = df_matrix.dot(weight_vector)\n",
    "print(y_pred)"
   ]
  },
  {
   "cell_type": "code",
   "execution_count": null,
   "id": "04523c4e-0f62-4455-91dd-8947716cd1af",
   "metadata": {},
   "outputs": [],
   "source": []
  }
 ],
 "metadata": {
  "kernelspec": {
   "display_name": "Python 3 (ipykernel)",
   "language": "python",
   "name": "python3"
  },
  "language_info": {
   "codemirror_mode": {
    "name": "ipython",
    "version": 3
   },
   "file_extension": ".py",
   "mimetype": "text/x-python",
   "name": "python",
   "nbconvert_exporter": "python",
   "pygments_lexer": "ipython3",
   "version": "3.10.16"
  }
 },
 "nbformat": 4,
 "nbformat_minor": 5
}
