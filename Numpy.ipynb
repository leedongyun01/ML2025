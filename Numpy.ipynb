{
 "cells": [
  {
   "cell_type": "code",
   "execution_count": 1,
   "id": "6fffe97b-20b7-48f6-aa20-7037574236f5",
   "metadata": {},
   "outputs": [],
   "source": [
    "import numpy as np"
   ]
  },
  {
   "cell_type": "code",
   "execution_count": 2,
   "id": "40deb1e2-0278-4dd3-9cb7-ad6b4ea86f00",
   "metadata": {},
   "outputs": [
    {
     "data": {
      "text/plain": [
       "array([1., 4., 5., 8.])"
      ]
     },
     "execution_count": 2,
     "metadata": {},
     "output_type": "execute_result"
    }
   ],
   "source": [
    "test_array = np.array([1, 4, 5, 8], float)\n",
    "test_array"
   ]
  },
  {
   "cell_type": "markdown",
   "id": "c3d737bd-7873-47a7-a079-4d8d5e4a5b2e",
   "metadata": {},
   "source": [
    "넘파이 배열은 파이썬 리스트와 달리 모든 구성 요소에 값이 존재해야 함."
   ]
  },
  {
   "cell_type": "code",
   "execution_count": 3,
   "id": "cd6cccca-2526-474b-81b0-4621ed564691",
   "metadata": {},
   "outputs": [
    {
     "name": "stdout",
     "output_type": "stream",
     "text": [
      "[[1, 4, 5, 8], [1, 4, 5]]\n",
      "<class 'list'>\n"
     ]
    },
    {
     "ename": "ValueError",
     "evalue": "setting an array element with a sequence. The requested array has an inhomogeneous shape after 1 dimensions. The detected shape was (2,) + inhomogeneous part.",
     "output_type": "error",
     "traceback": [
      "\u001b[1;31m---------------------------------------------------------------------------\u001b[0m",
      "\u001b[1;31mValueError\u001b[0m                                Traceback (most recent call last)",
      "Cell \u001b[1;32mIn[3], line 5\u001b[0m\n\u001b[0;32m      2\u001b[0m \u001b[38;5;28mprint\u001b[39m(test_list)\n\u001b[0;32m      3\u001b[0m \u001b[38;5;28mprint\u001b[39m(\u001b[38;5;28mtype\u001b[39m(test_list))\n\u001b[1;32m----> 5\u001b[0m test_array \u001b[38;5;241m=\u001b[39m \u001b[43mnp\u001b[49m\u001b[38;5;241;43m.\u001b[39;49m\u001b[43marray\u001b[49m\u001b[43m(\u001b[49m\u001b[43mtest_list\u001b[49m\u001b[43m,\u001b[49m\u001b[43m \u001b[49m\u001b[38;5;28;43mfloat\u001b[39;49m\u001b[43m)\u001b[49m\n\u001b[0;32m      6\u001b[0m \u001b[38;5;28mprint\u001b[39m(test_array)\n\u001b[0;32m      7\u001b[0m \u001b[38;5;28mprint\u001b[39m(\u001b[38;5;28mtype\u001b[39m(test_array))\n",
      "\u001b[1;31mValueError\u001b[0m: setting an array element with a sequence. The requested array has an inhomogeneous shape after 1 dimensions. The detected shape was (2,) + inhomogeneous part."
     ]
    }
   ],
   "source": [
    "test_list = [[1, 4, 5, 8], [1, 4, 5]]\n",
    "print(test_list)\n",
    "print(type(test_list))\n",
    "\n",
    "test_array = np.array(test_list, float)\n",
    "print(test_array)\n",
    "print(type(test_array))"
   ]
  },
  {
   "cell_type": "markdown",
   "id": "5652f4f3-75ac-4c69-82d1-4bbe4e7ad4e5",
   "metadata": {},
   "source": [
    "동적 타이핑 지원 X"
   ]
  },
  {
   "cell_type": "code",
   "execution_count": 4,
   "id": "706250fc-efc7-4d77-a640-38fff8f5414e",
   "metadata": {},
   "outputs": [
    {
     "name": "stdout",
     "output_type": "stream",
     "text": [
      "[1, 4, 5, 'DSU']\n",
      "<class 'list'>\n",
      "['1' '4' '5' 'DSU']\n",
      "<class 'numpy.ndarray'>\n"
     ]
    }
   ],
   "source": [
    "test_list = [1, 4, 5, 'DSU']\n",
    "print(test_list)\n",
    "print(type(test_list))\n",
    "\n",
    "test_array = np.array(test_list)\n",
    "print(test_array)\n",
    "print(type(test_array))"
   ]
  },
  {
   "cell_type": "markdown",
   "id": "e2554bba-c4e0-4087-9e1c-02aca4338f27",
   "metadata": {},
   "source": [
    "이 경우, float가 64비트라서, stride가 8바이트로 출력됨"
   ]
  },
  {
   "cell_type": "code",
   "execution_count": 5,
   "id": "e400d5da-7bff-492a-bf68-10dff4494c94",
   "metadata": {},
   "outputs": [
    {
     "name": "stdout",
     "output_type": "stream",
     "text": [
      "<class 'numpy.float64'>\n",
      "float64\n",
      "(3, 3)\n",
      "(24, 8)\n"
     ]
    }
   ],
   "source": [
    "test_array = np.array([[0, 1, 2],[3, 4, 5],[6, 7, 8]], float)\n",
    "print(type(test_array[0][0]))\n",
    "print(test_array.dtype)\n",
    "print(test_array.shape)\n",
    "print(test_array.strides)"
   ]
  },
  {
   "cell_type": "code",
   "execution_count": 6,
   "id": "e22da5a9-65e0-490e-83b9-5434a9fce029",
   "metadata": {},
   "outputs": [
    {
     "name": "stdout",
     "output_type": "stream",
     "text": [
      "9\n",
      "27\n",
      "[1. 4. 5. 8.]\n",
      "(4,)\n"
     ]
    }
   ],
   "source": [
    "print(2+7)\n",
    "print(\"2\"+\"7\")\n",
    "test_array = np.array([1, 4, 5, \"8\"], float)\n",
    "print(test_array)\n",
    "print(test_array.shape)"
   ]
  },
  {
   "cell_type": "code",
   "execution_count": 7,
   "id": "cd4579de-fbfe-4c7a-b542-6db0d8688538",
   "metadata": {},
   "outputs": [
    {
     "name": "stdout",
     "output_type": "stream",
     "text": [
      "(3, 4)\n",
      "[[1, 2, 5, 8], [1, 2, 5, 8], [1, 2, 5, 8]]\n",
      "[[1 2 5 8]\n",
      " [1 2 5 8]\n",
      " [1 2 5 8]]\n",
      "(4, 3, 4)\n",
      "[[[1 2 5 8]\n",
      "  [1 2 5 8]\n",
      "  [1 2 5 8]]\n",
      "\n",
      " [[1 2 5 8]\n",
      "  [1 2 5 8]\n",
      "  [1 2 5 8]]\n",
      "\n",
      " [[1 2 5 8]\n",
      "  [1 2 5 8]\n",
      "  [1 2 5 8]]\n",
      "\n",
      " [[1 2 5 8]\n",
      "  [1 2 5 8]\n",
      "  [1 2 5 8]]]\n"
     ]
    }
   ],
   "source": [
    "matrix = [[1, 2, 5, 8], [1, 2, 5, 8], [1, 2, 5, 8]]\n",
    "matrix_arr = np.array(matrix, int)\n",
    "tensor_rank3 = [[1, 2, 5, 8], [1, 2, 5, 8], [1, 2, 5, 8]], [[1, 2, 5, 8], [1, 2, 5, 8], [1, 2, 5, 8]], [[1, 2, 5, 8], [1, 2, 5, 8], [1, 2, 5, 8]], [[1, 2, 5, 8], [1, 2, 5, 8], [1, 2, 5, 8]]\n",
    "rank3_arr = np.array(tensor_rank3, int)\n",
    "\n",
    "print(matrix_arr.shape)\n",
    "print(matrix)\n",
    "print(matrix_arr)\n",
    "print(rank3_arr.shape)\n",
    "print(rank3_arr)"
   ]
  },
  {
   "cell_type": "markdown",
   "id": "237eab4d-fa46-4225-bf8f-9c8c95688076",
   "metadata": {},
   "source": [
    "reshape로 재구성 가능"
   ]
  },
  {
   "cell_type": "code",
   "execution_count": 46,
   "id": "77fab9cc-4e91-4e5b-bb01-94a4c3a42cbb",
   "metadata": {},
   "outputs": [
    {
     "name": "stdout",
     "output_type": "stream",
     "text": [
      "[0 1 2 3 4 5 6 7] \n",
      "\n",
      "[[0 1 2 3]\n",
      " [4 5 6 7]] \n",
      "\n",
      "[[[0 1]\n",
      "  [2 3]]\n",
      "\n",
      " [[4 5]\n",
      "  [6 7]]] \n",
      "\n"
     ]
    }
   ],
   "source": [
    "x = np.arange(8)\n",
    "print(x, \"\\n\")\n",
    "print(x.reshape(2,-1), \"\\n\")\n",
    "print(x.reshape(2,2,-1), \"\\n\")"
   ]
  },
  {
   "cell_type": "markdown",
   "id": "41bf4a63-8751-4920-9d84-fdcfa73e33db",
   "metadata": {},
   "source": [
    "인덱싱"
   ]
  },
  {
   "cell_type": "code",
   "execution_count": 73,
   "id": "5828de90-126b-43bc-ab55-e9998c56cb3a",
   "metadata": {},
   "outputs": [
    {
     "name": "stdout",
     "output_type": "stream",
     "text": [
      "[[0 1 2]\n",
      " [3 4 5]]\n",
      "0\n",
      "2\n",
      "[[  0 100   2]\n",
      " [  3   4   5]]\n"
     ]
    }
   ],
   "source": [
    "x = np.arange(6).reshape(2,-1)\n",
    "print(x)\n",
    "print(x[0][0])\n",
    "print(x[0, 2])\n",
    "x[0, 1] = 100\n",
    "print(x)"
   ]
  },
  {
   "cell_type": "markdown",
   "id": "8d500c98-9ce9-4f2d-842c-b92dcebbe5b9",
   "metadata": {},
   "source": [
    "슬라이싱"
   ]
  },
  {
   "cell_type": "code",
   "execution_count": 35,
   "id": "23a56276-4c10-42aa-8611-26da9e381627",
   "metadata": {},
   "outputs": [
    {
     "name": "stdout",
     "output_type": "stream",
     "text": [
      "[[ 1  2  3  4  5]\n",
      " [ 6  7  8  9 10]] \n",
      "\n",
      "[[ 3  4  5]\n",
      " [ 8  9 10]] \n",
      "\n",
      "[7 8] \n",
      "\n",
      "[[ 6  7  8  9 10]]\n"
     ]
    }
   ],
   "source": [
    "x = np.array([[1,2,3,4,5],[6,7,8,9,10]],int)\n",
    "print(x, \"\\n\")\n",
    "print(x[:,2:], \"\\n\")    # 전체 행의 2열 이상\n",
    "print(x[1,1:3], \"\\n\")   # 1행의 1~2열\n",
    "print(x[1:3])           # 1~2행의 전체   "
   ]
  },
  {
   "cell_type": "markdown",
   "id": "bd93c124-5898-4d4d-9f1b-2d794dd0281c",
   "metadata": {},
   "source": [
    "스텝 [시작 인덱스 : 마지막 인덱스 : 증가값]"
   ]
  },
  {
   "cell_type": "code",
   "execution_count": 39,
   "id": "3f8852c1-9edc-4d01-a7b6-756083202ce3",
   "metadata": {},
   "outputs": [
    {
     "name": "stdout",
     "output_type": "stream",
     "text": [
      "[[ 0  1  2  3  4]\n",
      " [ 5  6  7  8  9]\n",
      " [10 11 12 13 14]] \n",
      "\n",
      "[[ 0  2  4]\n",
      " [ 5  7  9]\n",
      " [10 12 14]] \n",
      "\n",
      "[[ 0  3]\n",
      " [10 13]]\n"
     ]
    }
   ],
   "source": [
    "x = np.array(range(15), int).reshape(3, -1)\n",
    "print(x, \"\\n\")\n",
    "print(x[:,::2], \"\\n\")\n",
    "print(x[::2,::3])"
   ]
  },
  {
   "cell_type": "markdown",
   "id": "82a47dbf-549a-485d-aff2-833c22a0fb00",
   "metadata": {},
   "source": [
    "배열 생성 함수"
   ]
  },
  {
   "cell_type": "code",
   "execution_count": 49,
   "id": "88c7250d-89df-4b3e-9582-dd4c5d9dff3f",
   "metadata": {},
   "outputs": [
    {
     "name": "stdout",
     "output_type": "stream",
     "text": [
      "[0 1 2 3 4 5 6 7 8 9]\n",
      "[-5 -4 -3 -2 -1  0  1  2  3  4]\n",
      "[0.  0.5 1.  1.5 2.  2.5 3.  3.5 4.  4.5]\n"
     ]
    }
   ],
   "source": [
    "print(np.arange(10))\n",
    "print(np.arange(-5,5))\n",
    "print(np.arange(0,5,0.5))"
   ]
  },
  {
   "cell_type": "code",
   "execution_count": 68,
   "id": "eaa78f11-22f8-4bbd-95b9-4045a6806acb",
   "metadata": {},
   "outputs": [
    {
     "name": "stdout",
     "output_type": "stream",
     "text": [
      "ones\n",
      " [[1 1]\n",
      " [1 1]\n",
      " [1 1]\n",
      " [1 1]\n",
      " [1 1]] \n",
      "\n",
      "zeros\n",
      " [[0. 0.]\n",
      " [0. 0.]] \n",
      "\n",
      "empty\n",
      " [[0.     1.875  0.     2.25  ]\n",
      " [0.     2.3125 0.     2.5   ]]\n"
     ]
    }
   ],
   "source": [
    "print(\"ones\\n\", np.ones(shape=(5,2), dtype=np.int8), \"\\n\")      # ones = 1로 구성된 배열 생성\n",
    "print(\"zeros\\n\", np.zeros(shape=(2,2), dtype=np.float32), \"\\n\")  # zeros = 0으로 구성된 배열 생성\n",
    "print(\"empty\\n\", np.empty(shape=(2,4), dtype=np.float32))        # empty = 메모리 공간을 확보"
   ]
  },
  {
   "cell_type": "code",
   "execution_count": 67,
   "id": "93f34c1b-36c8-4ce3-b8ce-cc56d3e9c203",
   "metadata": {},
   "outputs": [
    {
     "name": "stdout",
     "output_type": "stream",
     "text": [
      "identity\n",
      " [[1 0 0]\n",
      " [0 1 0]\n",
      " [0 0 1]] \n",
      "\n",
      "eye\n",
      " [[0 0 1 0 0]\n",
      " [0 0 0 1 0]\n",
      " [0 0 0 0 1]] \n",
      "\n",
      "[[0 1 2]\n",
      " [3 4 5]\n",
      " [6 7 8]] \n",
      "\n",
      "diag\n",
      " [0 4 8]\n"
     ]
    }
   ],
   "source": [
    "print(\"identity\\n\", np.identity(n=3, dtype=int), \"\\n\")  # identity = 단위행렬 생성\n",
    "print(\"eye\\n\", np.eye(3,5,2, dtype=int), \"\\n\")     # eye = 시작점의 행렬과 크기 지정 가능\n",
    "matrix = np.arange(9).reshape(3,3)        # diag = 특정 값에서 대각 행렬 추출\n",
    "print(matrix, \"\\n\")\n",
    "print(\"diag\\n\", np.diag(matrix))"
   ]
  },
  {
   "cell_type": "markdown",
   "id": "263e80de-9220-4cf1-95f0-602d24ea2641",
   "metadata": {},
   "source": [
    "통계 분석 함수"
   ]
  },
  {
   "cell_type": "code",
   "execution_count": 72,
   "id": "a502fb44-4ba5-4c3b-b07a-616555826377",
   "metadata": {},
   "outputs": [
    {
     "name": "stdout",
     "output_type": "stream",
     "text": [
      "uniform\n",
      " [0.44236341 2.34485384 3.49244605 2.09933891 2.14896327 3.3443931\n",
      " 3.99999877 3.13876699 0.18307027 2.71019145] \n",
      "\n",
      "normal\n",
      " [-2.11114012  1.01689169 -0.31978515 -2.0395899   1.62687497 -1.92266881\n",
      " -0.20890197 -1.03250651  4.34572335 -3.16768055]\n"
     ]
    }
   ],
   "source": [
    "print(\"uniform\\n\", np.random.uniform(0,5,10), \"\\n\")    # uniform = 균등분포 (시작값, 끝값, 데이터개수)\n",
    "print(\"normal\\n\", np.random.normal(0,2,10))            # normal = 정규분포 (평균값, 끝값, 데이터개수)"
   ]
  },
  {
   "cell_type": "markdown",
   "id": "78d3ea98-ce72-4225-86ce-f0772f947015",
   "metadata": {},
   "source": [
    "연산함수"
   ]
  },
  {
   "cell_type": "code",
   "execution_count": 77,
   "id": "e1d013d6-fe7d-4570-accb-2df4a18032e5",
   "metadata": {},
   "outputs": [
    {
     "name": "stdout",
     "output_type": "stream",
     "text": [
      "[ 1  2  3  4  5  6  7  8  9 10]\n",
      "55\n"
     ]
    }
   ],
   "source": [
    "test_array = np.arange(1,11)\n",
    "print(test_array)\n",
    "print(test_array.sum())"
   ]
  },
  {
   "cell_type": "code",
   "execution_count": 84,
   "id": "12f32719-dcd2-4be3-af85-485a051ae0a6",
   "metadata": {},
   "outputs": [
    {
     "name": "stdout",
     "output_type": "stream",
     "text": [
      "[[ 1  2  3  4]\n",
      " [ 5  6  7  8]\n",
      " [ 9 10 11 12]]\n",
      "axis = 0\n",
      " [15 18 21 24]\n",
      "axis = 1\n",
      " [10 26 42]\n"
     ]
    }
   ],
   "source": [
    "test_array = np.arange(1,13).reshape(3,4)\n",
    "print(test_array)\n",
    "print(\"axis = 0\\n\", test_array.sum(axis=0))  # 동일 행을 덧셈\n",
    "print(\"axis = 1\\n\", test_array.sum(axis=1))  # 동일 열을 덧셈"
   ]
  },
  {
   "cell_type": "code",
   "execution_count": 83,
   "id": "a2db0ae1-b3f2-4820-8b81-e466bb1b40e7",
   "metadata": {},
   "outputs": [
    {
     "name": "stdout",
     "output_type": "stream",
     "text": [
      "[[[ 1  2  3  4]\n",
      "  [ 5  6  7  8]\n",
      "  [ 9 10 11 12]]\n",
      "\n",
      " [[ 1  2  3  4]\n",
      "  [ 5  6  7  8]\n",
      "  [ 9 10 11 12]]\n",
      "\n",
      " [[ 1  2  3  4]\n",
      "  [ 5  6  7  8]\n",
      "  [ 9 10 11 12]]] \n",
      "\n",
      "axis = 0\n",
      " [[ 3  6  9 12]\n",
      " [15 18 21 24]\n",
      " [27 30 33 36]] \n",
      "\n",
      "axis = 1\n",
      " [[15 18 21 24]\n",
      " [15 18 21 24]\n",
      " [15 18 21 24]] \n",
      "\n",
      "axis = 2\n",
      " [[10 26 42]\n",
      " [10 26 42]\n",
      " [10 26 42]] \n",
      "\n"
     ]
    }
   ],
   "source": [
    "test_array = np.arange(1,13).reshape(3,4)\n",
    "third_order_tensor = np.array([test_array,test_array,test_array])\n",
    "print(third_order_tensor, \"\\n\")\n",
    "print(\"axis = 0\\n\", third_order_tensor.sum(axis=0),\"\\n\")\n",
    "print(\"axis = 1\\n\", third_order_tensor.sum(axis=1),\"\\n\")\n",
    "print(\"axis = 2\\n\", third_order_tensor.sum(axis=2),\"\\n\")"
   ]
  },
  {
   "cell_type": "code",
   "execution_count": null,
   "id": "057eaa2a-fde3-4090-a787-d572b87bc3b0",
   "metadata": {},
   "outputs": [],
   "source": []
  }
 ],
 "metadata": {
  "kernelspec": {
   "display_name": "Python 3 (ipykernel)",
   "language": "python",
   "name": "python3"
  },
  "language_info": {
   "codemirror_mode": {
    "name": "ipython",
    "version": 3
   },
   "file_extension": ".py",
   "mimetype": "text/x-python",
   "name": "python",
   "nbconvert_exporter": "python",
   "pygments_lexer": "ipython3",
   "version": "3.10.16"
  }
 },
 "nbformat": 4,
 "nbformat_minor": 5
}
